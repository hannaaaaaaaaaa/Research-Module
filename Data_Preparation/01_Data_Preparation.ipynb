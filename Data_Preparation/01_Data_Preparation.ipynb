{
 "cells": [
  {
   "cell_type": "markdown",
   "metadata": {},
   "source": [
    "# Data Preparation\n",
    "#### The intention of this notebook is to prepare and clean the data needed for our econometric analysis.\n",
    "Note that this notebook uses the environment used in our EPP class."
   ]
  },
  {
   "cell_type": "code",
   "execution_count": 1,
   "metadata": {},
   "outputs": [],
   "source": [
    "import pandas as pd\n",
    "import numpy as np"
   ]
  },
  {
   "cell_type": "markdown",
   "metadata": {},
   "source": [
    "## GDP Data"
   ]
  },
  {
   "cell_type": "markdown",
   "metadata": {},
   "source": [
    "##### Read in data"
   ]
  },
  {
   "cell_type": "code",
   "execution_count": 11,
   "metadata": {},
   "outputs": [],
   "source": [
    "# read in GDP data\n",
    "gdp_data = pd.read_excel(\"../Data_Sources/GDPCity_Data.xlsx\")\n",
    "\n",
    "# rename cols\n",
    "gdp_data = gdp_data.rename(columns={'Ano':'year', 'Sigla da Unidade da Federação':'state_id', 'Código do Município':'municipality_id',\n",
    "                         'Código da Mesorregião':'region_id','Produto Interno Bruto per capita, \\na preços correntes\\n(R$ 1,00)': 'gdp_per_capita'})\n",
    "\n",
    "# change data types\n",
    "gdp_data['year'] = gdp_data['year'].astype(str)\n",
    "gdp_data['state_id'] = gdp_data['state_id'].astype(str)\n",
    "gdp_data['municipality_id'] = gdp_data['municipality_id'].astype(str)"
   ]
  },
  {
   "cell_type": "markdown",
   "metadata": {},
   "source": [
    "##### Slicing"
   ]
  },
  {
   "cell_type": "code",
   "execution_count": 12,
   "metadata": {},
   "outputs": [],
   "source": [
    "# slicing: select only needed cols\n",
    "gdp_data = gdp_data[['year','municipality_id', 'region_id', 'gdp_per_capita']].copy()\n",
    "\n",
    "# only year 2021\n",
    "gdp_data = gdp_data[gdp_data['year']=='2021'].copy().reset_index(drop=True)"
   ]
  },
  {
   "cell_type": "markdown",
   "metadata": {},
   "source": [
    "##### Checks"
   ]
  },
  {
   "cell_type": "code",
   "execution_count": 13,
   "metadata": {},
   "outputs": [
    {
     "data": {
      "text/plain": [
       "year               0\n",
       "municipality_id    0\n",
       "region_id          0\n",
       "gdp_per_capita     0\n",
       "dtype: int64"
      ]
     },
     "execution_count": 13,
     "metadata": {},
     "output_type": "execute_result"
    }
   ],
   "source": [
    "# check if municipality_id is a unique identifier\n",
    "gdp_data['municipality_id'].is_unique\n",
    "\n",
    "# check for NaNs in each col\n",
    "gdp_data.isnull().sum()"
   ]
  }
 ],
 "metadata": {
  "kernelspec": {
   "display_name": "epp",
   "language": "python",
   "name": "python3"
  },
  "language_info": {
   "codemirror_mode": {
    "name": "ipython",
    "version": 3
   },
   "file_extension": ".py",
   "mimetype": "text/x-python",
   "name": "python",
   "nbconvert_exporter": "python",
   "pygments_lexer": "ipython3",
   "version": "3.11.0"
  }
 },
 "nbformat": 4,
 "nbformat_minor": 2
}
